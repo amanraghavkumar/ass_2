{
 "cells": [
  {
   "cell_type": "markdown",
   "id": "6a99e069",
   "metadata": {},
   "source": [
    "Q1. Who developed python programming language?"
   ]
  },
  {
   "cell_type": "markdown",
   "id": "a37477bb",
   "metadata": {},
   "source": [
    "* Python was created by Guido van Rossum in 1991."
   ]
  },
  {
   "cell_type": "markdown",
   "id": "419ea010",
   "metadata": {},
   "source": [
    "Q2.Which type of programming does python support?"
   ]
  },
  {
   "cell_type": "markdown",
   "id": "80570563",
   "metadata": {},
   "source": [
    "* Python is a multiparadigm programming language, which means it supports multiple programming styles or paradigms.\n",
    "* Like:Object-Oriented Programming, Functional Programming,Dynamic Programming,Imperative Programming etc."
   ]
  },
  {
   "cell_type": "markdown",
   "id": "ae751c17",
   "metadata": {},
   "source": [
    "Q3. Is python case sensitive when dealing with identifiers?"
   ]
  },
  {
   "cell_type": "markdown",
   "id": "2351f08f",
   "metadata": {},
   "source": [
    "* Yes,python is case sensitive.\n",
    "for example"
   ]
  },
  {
   "cell_type": "code",
   "execution_count": 2,
   "id": "305787f5",
   "metadata": {},
   "outputs": [
    {
     "name": "stdout",
     "output_type": "stream",
     "text": [
      "10\n",
      "raghav\n"
     ]
    }
   ],
   "source": [
    "aman=10\n",
    "Aman='raghav'\n",
    "print(aman)\n",
    "print(Aman)"
   ]
  },
  {
   "cell_type": "markdown",
   "id": "162c1728",
   "metadata": {},
   "source": [
    "Q4. What is the correct extension of the python file? "
   ]
  },
  {
   "cell_type": "markdown",
   "id": "52876fdb",
   "metadata": {},
   "source": [
    "* \".py\"  for example:myfile.py\n"
   ]
  },
  {
   "cell_type": "markdown",
   "id": "c5200153",
   "metadata": {},
   "source": [
    "Q5. Is python code compiled or interpreted?"
   ]
  },
  {
   "cell_type": "markdown",
   "id": "b96206df",
   "metadata": {},
   "source": [
    "* Python code is executed by an interpreter. The Python interpreter reads the source code line by line."
   ]
  },
  {
   "cell_type": "markdown",
   "id": "20e94920",
   "metadata": {},
   "source": [
    "Q6. Name a few blocks of code used to define in python programming language?"
   ]
  },
  {
   "cell_type": "markdown",
   "id": "cfd354d0",
   "metadata": {},
   "source": [
    "* In Python, code blocks are defined by their indentation level.\n",
    "For example:"
   ]
  },
  {
   "cell_type": "code",
   "execution_count": 14,
   "id": "9e389fe1",
   "metadata": {},
   "outputs": [
    {
     "name": "stdout",
     "output_type": "stream",
     "text": [
      "Enter the a:2\n",
      "Enter the b:4\n",
      "Enter the c:1\n",
      "b is greatest a and c\n"
     ]
    }
   ],
   "source": [
    "a=input(('Enter the a:'))\n",
    "b=input(('Enter the b:'))\n",
    "c=input(('Enter the c:'))\n",
    "if (a>b>c):\n",
    "    print(\"a is greatest b and c\")\n",
    "elif b>a>c:\n",
    "    print(\"b is greatest a and c\")\n",
    "else:\n",
    "    print(\"c is greatest\")"
   ]
  },
  {
   "cell_type": "markdown",
   "id": "afcc105f",
   "metadata": {},
   "source": [
    "Q7.State a character used to given single line comments in python"
   ]
  },
  {
   "cell_type": "markdown",
   "id": "f8b4e0e7",
   "metadata": {},
   "source": [
    "* In Python, the hash symbol (#) is used to indicate a single-line comment.\n",
    "    for example:"
   ]
  },
  {
   "cell_type": "code",
   "execution_count": 1,
   "id": "01b04291",
   "metadata": {},
   "outputs": [
    {
     "name": "stdout",
     "output_type": "stream",
     "text": [
      "aman\n"
     ]
    }
   ],
   "source": [
    "name='aman'# this is my name\n",
    "print(name)# print this name"
   ]
  },
  {
   "cell_type": "markdown",
   "id": "c4de7d74",
   "metadata": {},
   "source": [
    "Q8. Mention functions which can help us to find the version of python that we are currently working on?"
   ]
  },
  {
   "cell_type": "markdown",
   "id": "6bbfd09b",
   "metadata": {},
   "source": [
    "1.sys Module:\n",
    "* The sys module provides access to some variables used or maintained by the Python interpreter, including the version information.\n",
    "sys Module:"
   ]
  },
  {
   "cell_type": "code",
   "execution_count": 6,
   "id": "cf551643",
   "metadata": {},
   "outputs": [
    {
     "name": "stdout",
     "output_type": "stream",
     "text": [
      "3.10.9 | packaged by Anaconda, Inc. | (main, Mar  1 2023, 18:18:15) [MSC v.1916 64 bit (AMD64)]\n"
     ]
    }
   ],
   "source": [
    "import sys\n",
    "print(sys.version)"
   ]
  },
  {
   "cell_type": "markdown",
   "id": "7ed5e80c",
   "metadata": {},
   "source": [
    "Q9. Python supports the creation of anonymous functions at run time ,using a construct called_______"
   ]
  },
  {
   "cell_type": "markdown",
   "id": "742fe1e9",
   "metadata": {},
   "source": [
    "* lambda function"
   ]
  },
  {
   "cell_type": "markdown",
   "id": "2370a546",
   "metadata": {},
   "source": [
    "Q10. What does pip stand for python?"
   ]
  },
  {
   "cell_type": "markdown",
   "id": "bd716f70",
   "metadata": {},
   "source": [
    "* Pip is the package installer for Python, and it is used to install and manage Python packages (libraries or modules) that are not part of the Python standard library."
   ]
  },
  {
   "cell_type": "markdown",
   "id": "5bce7bf1",
   "metadata": {},
   "source": [
    "Q11. Mention a few built-in functions in python?"
   ]
  },
  {
   "cell_type": "markdown",
   "id": "fd865b06",
   "metadata": {},
   "source": [
    "* print()\n",
    "* len()\n",
    "* type()\n",
    "* input()\n",
    "* range() etc"
   ]
  },
  {
   "cell_type": "markdown",
   "id": "77a2afb3",
   "metadata": {},
   "source": [
    "Q12. What is the maximum possible length of an identifiers in python?"
   ]
  },
  {
   "cell_type": "markdown",
   "id": "4ac58119",
   "metadata": {},
   "source": [
    "* In Python, the maximum possible length of an identifier (variable name, function name, class name, etc.) is not explicitly defined by a fixed number of characters. However, the practical limit is determined by the maximum size of a Unicode character string."
   ]
  },
  {
   "cell_type": "markdown",
   "id": "88b59b33",
   "metadata": {},
   "source": [
    "Q13. What are the benefits of using python?"
   ]
  },
  {
   "cell_type": "markdown",
   "id": "5353226c",
   "metadata": {},
   "source": [
    "* Open Source and Free\n",
    "* High-Level Language\n",
    "* Interpreted and Interactive\n",
    "* Readability and Simplicity"
   ]
  },
  {
   "cell_type": "markdown",
   "id": "18c30aec",
   "metadata": {},
   "source": [
    "Q14.How is memory managed in python?"
   ]
  },
  {
   "cell_type": "markdown",
   "id": "1bde02af",
   "metadata": {},
   "source": [
    "* Memory management in Python is handled by the Python Memory Manager, which consists of several components, including a private heap containing all Python objects and data structures.\n",
    "* Memory Allocation\n",
    "* Private Heap Space\n",
    "* Garbage Collection etc"
   ]
  },
  {
   "cell_type": "markdown",
   "id": "9d5b6612",
   "metadata": {},
   "source": [
    "Q15. How to install python on windows and set path variables?"
   ]
  },
  {
   "cell_type": "markdown",
   "id": "428294d1",
   "metadata": {},
   "source": [
    "1. Download Python:\n",
    "\n",
    "* Visit the official Python website at python.org.\n",
    "* Go to the \"Downloads\" section and select the latest version of Python for Windows.\n",
    "* Download the installer (usually a .exe file).\n",
    "\n",
    "2. Set PATH Variables:\n",
    "\n",
    "* Right-click on \"This PC\" or \"Computer\" on your desktop or in File Explorer and select \"Properties.\""
   ]
  },
  {
   "cell_type": "markdown",
   "id": "eeee1675",
   "metadata": {},
   "source": [
    "Q16. Is indentation required in python?"
   ]
  },
  {
   "cell_type": "markdown",
   "id": "89b55fcc",
   "metadata": {},
   "source": [
    "* yes"
   ]
  },
  {
   "cell_type": "code",
   "execution_count": null,
   "id": "f69b3480",
   "metadata": {},
   "outputs": [],
   "source": []
  }
 ],
 "metadata": {
  "kernelspec": {
   "display_name": "Python 3 (ipykernel)",
   "language": "python",
   "name": "python3"
  },
  "language_info": {
   "codemirror_mode": {
    "name": "ipython",
    "version": 3
   },
   "file_extension": ".py",
   "mimetype": "text/x-python",
   "name": "python",
   "nbconvert_exporter": "python",
   "pygments_lexer": "ipython3",
   "version": "3.10.9"
  }
 },
 "nbformat": 4,
 "nbformat_minor": 5
}
